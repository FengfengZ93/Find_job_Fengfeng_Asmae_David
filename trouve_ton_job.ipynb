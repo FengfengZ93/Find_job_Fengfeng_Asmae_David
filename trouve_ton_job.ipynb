{
 "cells": [
  {
   "cell_type": "code",
   "execution_count": 18,
   "metadata": {},
   "outputs": [],
   "source": [
    "import pandas as pd\n",
    "import json\n",
    "import datetime as dt"
   ]
  },
  {
   "cell_type": "markdown",
   "metadata": {},
   "source": []
  },
  {
   "cell_type": "code",
   "execution_count": 19,
   "metadata": {},
   "outputs": [
    {
     "data": {
      "text/plain": [
       "Intitulé du poste      object\n",
       "Date de publication    object\n",
       "lieu                   object\n",
       "competences            object\n",
       "Type de poste          object\n",
       "dtype: object"
      ]
     },
     "execution_count": 19,
     "metadata": {},
     "output_type": "execute_result"
    }
   ],
   "source": [
    "data = pd.read_json('data.json')\n",
    "df = data.copy()\n",
    "df.dtypes"
   ]
  },
  {
   "cell_type": "code",
   "execution_count": 20,
   "metadata": {},
   "outputs": [
    {
     "data": {
      "text/plain": [
       "(230, 5)"
      ]
     },
     "execution_count": 20,
     "metadata": {},
     "output_type": "execute_result"
    }
   ],
   "source": [
    "df.shape"
   ]
  },
  {
   "cell_type": "code",
   "execution_count": 21,
   "metadata": {},
   "outputs": [
    {
     "data": {
      "text/html": [
       "<div>\n",
       "<style scoped>\n",
       "    .dataframe tbody tr th:only-of-type {\n",
       "        vertical-align: middle;\n",
       "    }\n",
       "\n",
       "    .dataframe tbody tr th {\n",
       "        vertical-align: top;\n",
       "    }\n",
       "\n",
       "    .dataframe thead th {\n",
       "        text-align: right;\n",
       "    }\n",
       "</style>\n",
       "<table border=\"1\" class=\"dataframe\">\n",
       "  <thead>\n",
       "    <tr style=\"text-align: right;\">\n",
       "      <th></th>\n",
       "      <th>Intitulé du poste</th>\n",
       "      <th>Date de publication</th>\n",
       "      <th>lieu</th>\n",
       "      <th>competences</th>\n",
       "      <th>Type de poste</th>\n",
       "    </tr>\n",
       "  </thead>\n",
       "  <tbody>\n",
       "    <tr>\n",
       "      <th>0</th>\n",
       "      <td>Data Analyst - Publicité</td>\n",
       "      <td>postée il y a 21 jours</td>\n",
       "      <td>Paris</td>\n",
       "      <td>sql, t-sql, outils</td>\n",
       "      <td>Sept Lieues SAS, Cabinet de recrutement , CDI ...</td>\n",
       "    </tr>\n",
       "    <tr>\n",
       "      <th>1</th>\n",
       "      <td>Data analyst - H/F</td>\n",
       "      <td>postée il y a 1 mois</td>\n",
       "      <td>Paris, La Défense</td>\n",
       "      <td>support, outils, agile, design, big, data</td>\n",
       "      <td>EDF France, Client final , CDI - temps plein,</td>\n",
       "    </tr>\n",
       "    <tr>\n",
       "      <th>2</th>\n",
       "      <td>Customer Data Analyst (H/F)</td>\n",
       "      <td>postée il y a 27 jours</td>\n",
       "      <td>Paris</td>\n",
       "      <td>crm, data, quality, sql, sas, python</td>\n",
       "      <td>Hermès, Client final , CDI - temps plein,</td>\n",
       "    </tr>\n",
       "    <tr>\n",
       "      <th>3</th>\n",
       "      <td>Master Data Analyst H/F</td>\n",
       "      <td>postée il y a 21 jours</td>\n",
       "      <td>Moussy-le-Vieux</td>\n",
       "      <td>si, support, sap</td>\n",
       "      <td>TEREOS, Client final , CDI - temps plein,</td>\n",
       "    </tr>\n",
       "    <tr>\n",
       "      <th>4</th>\n",
       "      <td>Portfolio Data Analyst H/F</td>\n",
       "      <td>postée il y a 3 jours</td>\n",
       "      <td>France</td>\n",
       "      <td>outils, support, decisionnel, sql, test</td>\n",
       "      <td>Safran-Group, Client final , CDI - temps plein,</td>\n",
       "    </tr>\n",
       "    <tr>\n",
       "      <th>...</th>\n",
       "      <td>...</td>\n",
       "      <td>...</td>\n",
       "      <td>...</td>\n",
       "      <td>...</td>\n",
       "      <td>...</td>\n",
       "    </tr>\n",
       "    <tr>\n",
       "      <th>225</th>\n",
       "      <td>SAP Fiori Developer (H/F)</td>\n",
       "      <td>postée il y a 27 jours</td>\n",
       "      <td>Saint-Ouen</td>\n",
       "      <td>sap, abap, progiciel, système, support</td>\n",
       "      <td>Groupe ENGIE, Client final , CDI - temps plein,</td>\n",
       "    </tr>\n",
       "    <tr>\n",
       "      <th>226</th>\n",
       "      <td>ENGIE Digital - Architecte Données (H/F)</td>\n",
       "      <td>postée il y a 3 jours</td>\n",
       "      <td>Paris</td>\n",
       "      <td>digital, outils, securité, sécurité, t-sql</td>\n",
       "      <td>Groupe ENGIE, Client final , CDI - temps plein,</td>\n",
       "    </tr>\n",
       "    <tr>\n",
       "      <th>227</th>\n",
       "      <td>Quality Assurance - Lead QA - Lead Acceptance H/F</td>\n",
       "      <td>postée il y a 2 heures</td>\n",
       "      <td>Boulogne-Billancourt</td>\n",
       "      <td>test, serveur, jquery, mobile, tdd</td>\n",
       "      <td>Francaise des jeux, Client final , CDI - temps...</td>\n",
       "    </tr>\n",
       "    <tr>\n",
       "      <th>228</th>\n",
       "      <td>DATA SCIENTIST</td>\n",
       "      <td>postée il y a 16 jours</td>\n",
       "      <td>NEUILLY SUR SEINE</td>\n",
       "      <td>nosql, unix, java, machine, learning, linux</td>\n",
       "      <td>BEEZEN, ESN , CDI - temps plein,</td>\n",
       "    </tr>\n",
       "    <tr>\n",
       "      <th>229</th>\n",
       "      <td>Datascientist (H/F)</td>\n",
       "      <td>postée il y a 3 jours</td>\n",
       "      <td>Saint-Ouen</td>\n",
       "      <td>big, data, support, python, réseaux, securité</td>\n",
       "      <td>Groupe ENGIE, Client final , CDI - temps plein,</td>\n",
       "    </tr>\n",
       "  </tbody>\n",
       "</table>\n",
       "<p>230 rows × 5 columns</p>\n",
       "</div>"
      ],
      "text/plain": [
       "                                     Intitulé du poste  \\\n",
       "0                             Data Analyst - Publicité   \n",
       "1                                   Data analyst - H/F   \n",
       "2                          Customer Data Analyst (H/F)   \n",
       "3                              Master Data Analyst H/F   \n",
       "4                           Portfolio Data Analyst H/F   \n",
       "..                                                 ...   \n",
       "225                          SAP Fiori Developer (H/F)   \n",
       "226           ENGIE Digital - Architecte Données (H/F)   \n",
       "227  Quality Assurance - Lead QA - Lead Acceptance H/F   \n",
       "228                                     DATA SCIENTIST   \n",
       "229                                Datascientist (H/F)   \n",
       "\n",
       "        Date de publication                  lieu  \\\n",
       "0    postée il y a 21 jours                 Paris   \n",
       "1      postée il y a 1 mois     Paris, La Défense   \n",
       "2    postée il y a 27 jours                 Paris   \n",
       "3    postée il y a 21 jours       Moussy-le-Vieux   \n",
       "4     postée il y a 3 jours                France   \n",
       "..                      ...                   ...   \n",
       "225  postée il y a 27 jours            Saint-Ouen   \n",
       "226   postée il y a 3 jours                 Paris   \n",
       "227  postée il y a 2 heures  Boulogne-Billancourt   \n",
       "228  postée il y a 16 jours     NEUILLY SUR SEINE   \n",
       "229   postée il y a 3 jours            Saint-Ouen   \n",
       "\n",
       "                                       competences  \\\n",
       "0                               sql, t-sql, outils   \n",
       "1        support, outils, agile, design, big, data   \n",
       "2             crm, data, quality, sql, sas, python   \n",
       "3                                 si, support, sap   \n",
       "4          outils, support, decisionnel, sql, test   \n",
       "..                                             ...   \n",
       "225         sap, abap, progiciel, système, support   \n",
       "226     digital, outils, securité, sécurité, t-sql   \n",
       "227             test, serveur, jquery, mobile, tdd   \n",
       "228    nosql, unix, java, machine, learning, linux   \n",
       "229  big, data, support, python, réseaux, securité   \n",
       "\n",
       "                                         Type de poste  \n",
       "0    Sept Lieues SAS, Cabinet de recrutement , CDI ...  \n",
       "1        EDF France, Client final , CDI - temps plein,  \n",
       "2            Hermès, Client final , CDI - temps plein,  \n",
       "3            TEREOS, Client final , CDI - temps plein,  \n",
       "4      Safran-Group, Client final , CDI - temps plein,  \n",
       "..                                                 ...  \n",
       "225    Groupe ENGIE, Client final , CDI - temps plein,  \n",
       "226    Groupe ENGIE, Client final , CDI - temps plein,  \n",
       "227  Francaise des jeux, Client final , CDI - temps...  \n",
       "228                   BEEZEN, ESN , CDI - temps plein,  \n",
       "229    Groupe ENGIE, Client final , CDI - temps plein,  \n",
       "\n",
       "[230 rows x 5 columns]"
      ]
     },
     "execution_count": 21,
     "metadata": {},
     "output_type": "execute_result"
    }
   ],
   "source": [
    "col1 = [item[0].replace('\\n', '') for item in df['Intitulé du poste']]\n",
    "df['Intitulé du poste'] = col1\n",
    "\n",
    "col2 = [item.replace('\\n', '') for item in df['Date de publication']]\n",
    "df['Date de publication'] = col2\n",
    "\n",
    "col3 = [item[0].replace('\\n', '') for item in df['lieu']]\n",
    "df['lieu'] = col3\n",
    "\n",
    "col4 = [' '.join(item).replace('\\n', '').replace(' ', ', ') for item in df['competences']]\n",
    "df['competences'] = col4\n",
    "\n",
    "col5 = [''.join(item).replace('\\n', ', ').replace(', ,', '').strip() for item in df['Type de poste']]\n",
    "df['Type de poste'] = col5\n",
    "\n",
    "df"
   ]
  },
  {
   "cell_type": "code",
   "execution_count": 22,
   "metadata": {},
   "outputs": [
    {
     "data": {
      "text/plain": [
       "230"
      ]
     },
     "execution_count": 22,
     "metadata": {},
     "output_type": "execute_result"
    }
   ],
   "source": [
    "y = [' '.join(element.split()[4:6]) for element in df['Date de publication']]\n",
    "len(y)"
   ]
  },
  {
   "cell_type": "code",
   "execution_count": 23,
   "metadata": {},
   "outputs": [
    {
     "data": {
      "text/plain": [
       "230"
      ]
     },
     "execution_count": 23,
     "metadata": {},
     "output_type": "execute_result"
    }
   ],
   "source": [
    "date0 = dt.date(2023, 3, 15)\n",
    "dates = []\n",
    "for item in y:\n",
    "    dates.append(item)\n",
    "len(dates)"
   ]
  }
 ],
 "metadata": {
  "kernelspec": {
   "display_name": "base",
   "language": "python",
   "name": "python3"
  },
  "language_info": {
   "codemirror_mode": {
    "name": "ipython",
    "version": 3
   },
   "file_extension": ".py",
   "mimetype": "text/x-python",
   "name": "python",
   "nbconvert_exporter": "python",
   "pygments_lexer": "ipython3",
   "version": "3.9.13"
  },
  "orig_nbformat": 4,
  "vscode": {
   "interpreter": {
    "hash": "70cfd609d7ba4145b3fedff821ecc63fd4c765afddbe882b67e97f0bba880cb4"
   }
  }
 },
 "nbformat": 4,
 "nbformat_minor": 2
}
